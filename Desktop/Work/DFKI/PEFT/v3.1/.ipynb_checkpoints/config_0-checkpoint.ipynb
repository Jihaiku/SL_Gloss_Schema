{
 "cells": [
  {
   "cell_type": "code",
   "execution_count": 1,
   "id": "8ce54df8-e9db-4031-a6b9-ad919b89a693",
   "metadata": {},
   "outputs": [
    {
     "name": "stdout",
     "output_type": "stream",
     "text": [
      "This code is meant to open up the config.yaml file so that \n",
      "you may be able to run variable features found within without \n",
      "needing to constantly change the code.\n",
      "\n",
      "Running config.py as standalone script...\n",
      "Config loaded successfully.\n",
      "\n",
      "Config contents:\n",
      "\n",
      "model_name_or_path : openai/whisper-tiny\n",
      "model              : whisper-tiny\n",
      "language           : English\n",
      "language_abbr      : en\n",
      "task               : transcribe\n",
      "dataset_name       : mozilla-foundation/common_voice_11_0\n",
      "size               : 0.005\n",
      "user_name          : jihaiku\n",
      "peft_type          : LoRA\n",
      "r                  : 32\n",
      "lora_alpha         : 64\n",
      "lora_dropout       : 0.05\n",
      "bias               : none\n",
      "csv_path           : active\n",
      "json_path          : None\n"
     ]
    }
   ],
   "source": [
    "#\n",
    "# Imports\n",
    "#\n",
    "import yaml\n",
    "import os\n",
    "\n",
    "#\n",
    "# Open Configs\n",
    "#\n",
    "def load_config(config_path=\"config.yaml\"):\n",
    "    \"\"\"\n",
    "    Loads the YAML config file and returns it as a Python dictionary.\n",
    "    \"\"\"\n",
    "    if not os.path.exists(config_path):\n",
    "        raise FileNotFoundError(f\"Config file not found at: {config_path}\")\n",
    "    \n",
    "    with open(config_path, \"r\") as file:\n",
    "        config = yaml.safe_load(file)\n",
    "\n",
    "    os.environ[\"CUDA_VISIBLE_DEVICES\"] = \"0\"\n",
    "\n",
    "    csv_filename = \"model_results.csv\"\n",
    "    model_name_or_path = config[\"model_name_or_path\"]\n",
    "    model = config[\"model\"]\n",
    "    language = config[\"language\"]\n",
    "    language_abbr = config[\"language_abbr\"]\n",
    "    task = config[\"task\"]\n",
    "    dataset_name = config[\"dataset_name\"]\n",
    "    size = config[\"size\"]\n",
    "    user_name = config[\"user_name\"]\n",
    "    peft_type = config[\"peft_type\"]\n",
    "    # output_dir = f\"{model_name_or_path}-{language_abbr}-{size}-{seed}\"\n",
    "    return config\n",
    "\n",
    "\n",
    "#\n",
    "# Sanity Testing\n",
    "#\n",
    "if __name__ == \"__main__\":\n",
    "    print(\"This code is meant to open up the config.yaml file so that \\nyou may be able to run variable features found within without \\nneeding to constantly change the code.\\n\")\n",
    "    print(\"Running config.py as standalone script...\")\n",
    "\n",
    "    try:\n",
    "        cfg = load_config()\n",
    "        assert isinstance(cfg, dict), \"Config is not a dictionary.\"\n",
    "        print(\"Config loaded successfully.\")\n",
    "        print(\"\\nConfig contents:\\n\")\n",
    "        max_key_len = max(len(key) for key in cfg.keys())\n",
    "        for key, value in cfg.items():\n",
    "            print(f\"{key.ljust(max_key_len)} : {value}\")\n",
    "    except Exception as e:\n",
    "        print(f\"Test failed: {e}\")\n",
    "\n"
   ]
  }
 ],
 "metadata": {
  "kernelspec": {
   "display_name": "Python 3 (ipykernel)",
   "language": "python",
   "name": "python3"
  },
  "language_info": {
   "codemirror_mode": {
    "name": "ipython",
    "version": 3
   },
   "file_extension": ".py",
   "mimetype": "text/x-python",
   "name": "python",
   "nbconvert_exporter": "python",
   "pygments_lexer": "ipython3",
   "version": "3.8.20"
  }
 },
 "nbformat": 4,
 "nbformat_minor": 5
}
